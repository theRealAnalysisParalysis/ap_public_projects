{
 "cells": [
  {
   "cell_type": "code",
   "execution_count": 53,
   "id": "16d03c9e",
   "metadata": {},
   "outputs": [],
   "source": [
    "import pandas as pd\n",
    "import numpy as np"
   ]
  },
  {
   "cell_type": "code",
   "execution_count": 2,
   "id": "702c0d1a",
   "metadata": {},
   "outputs": [],
   "source": [
    "df= pd.read_csv('speed_dating_speed_analysis.tsv', sep='\\t')"
   ]
  },
  {
   "cell_type": "code",
   "execution_count": 5,
   "id": "9961dc04",
   "metadata": {},
   "outputs": [
    {
     "data": {
      "text/plain": [
       "7749"
      ]
     },
     "execution_count": 5,
     "metadata": {},
     "output_type": "execute_result"
    }
   ],
   "source": [
    "#How many dates happened?\n",
    "\n",
    "len(df)"
   ]
  },
  {
   "cell_type": "code",
   "execution_count": 6,
   "id": "c3b3f708",
   "metadata": {},
   "outputs": [
    {
     "data": {
      "text/plain": [
       "3101"
      ]
     },
     "execution_count": 6,
     "metadata": {},
     "output_type": "execute_result"
    }
   ],
   "source": [
    "# How many couples (dates) were the same race?\n",
    "\n",
    "len(df[df['race_female']==df['race_male']])"
   ]
  },
  {
   "cell_type": "code",
   "execution_count": 7,
   "id": "69b6473f",
   "metadata": {},
   "outputs": [
    {
     "data": {
      "text/plain": [
       "26.0"
      ]
     },
     "execution_count": 7,
     "metadata": {},
     "output_type": "execute_result"
    }
   ],
   "source": [
    "# what is the females' median age?\n",
    "\n",
    "df['age_female'].median()"
   ]
  },
  {
   "cell_type": "code",
   "execution_count": 12,
   "id": "abbc01a3",
   "metadata": {},
   "outputs": [
    {
     "data": {
      "text/plain": [
       "'business'"
      ]
     },
     "execution_count": 12,
     "metadata": {},
     "output_type": "execute_result"
    }
   ],
   "source": [
    "# what is the 2nd most common profession across all participants\n",
    "\n",
    "\n",
    "pd.concat([df['field_female'],df['field_male']]).value_counts().index[1]"
   ]
  },
  {
   "cell_type": "code",
   "execution_count": 28,
   "id": "3174157b",
   "metadata": {},
   "outputs": [
    {
     "data": {
      "text/plain": [
       "'european'"
      ]
     },
     "execution_count": 28,
     "metadata": {},
     "output_type": "execute_result"
    }
   ],
   "source": [
    "# What is the most common single race\n",
    "\n",
    "\n",
    "races = pd.concat([df['race_male'],df['race_female']]).to_frame()\n",
    "melted_values = races[0].str.split(\"/\", expand=True).melt()\n",
    "melted_values['value'].value_counts().index[0]"
   ]
  },
  {
   "cell_type": "code",
   "execution_count": 39,
   "id": "43e6021a",
   "metadata": {},
   "outputs": [
    {
     "data": {
      "text/plain": [
       "128"
      ]
     },
     "execution_count": 39,
     "metadata": {},
     "output_type": "execute_result"
    }
   ],
   "source": [
    "# How many Male Asian American practice law (and went on the speed dating)?\n",
    "\n",
    "len(df[\n",
    "    (df['field_male']=='law')&\n",
    "    (df['race_male'].str.contains('asian-american'))&\n",
    "    (~df['race_male'].str.contains('caucasian-american'))\n",
    "])"
   ]
  },
  {
   "cell_type": "code",
   "execution_count": 43,
   "id": "75378814",
   "metadata": {},
   "outputs": [
    {
     "data": {
      "text/plain": [
       "1305"
      ]
     },
     "execution_count": 43,
     "metadata": {},
     "output_type": "execute_result"
    }
   ],
   "source": [
    "# A match is when both sides have a decision of 1, how many matches are there?\n",
    "\n",
    "len(df[(df['decision_female']==df['decision_male']) &\n",
    "        (df['decision_male'] ==1)])"
   ]
  },
  {
   "cell_type": "code",
   "execution_count": 46,
   "id": "323e088f",
   "metadata": {},
   "outputs": [
    {
     "data": {
      "text/html": [
       "<div>\n",
       "<style scoped>\n",
       "    .dataframe tbody tr th:only-of-type {\n",
       "        vertical-align: middle;\n",
       "    }\n",
       "\n",
       "    .dataframe tbody tr th {\n",
       "        vertical-align: top;\n",
       "    }\n",
       "\n",
       "    .dataframe thead th {\n",
       "        text-align: right;\n",
       "    }\n",
       "</style>\n",
       "<table border=\"1\" class=\"dataframe\">\n",
       "  <thead>\n",
       "    <tr style=\"text-align: right;\">\n",
       "      <th></th>\n",
       "      <th>age_female</th>\n",
       "      <th>age_male</th>\n",
       "      <th>race_female</th>\n",
       "      <th>race_male</th>\n",
       "      <th>field_female</th>\n",
       "      <th>decision_female</th>\n",
       "      <th>decision_male</th>\n",
       "      <th>funny_female</th>\n",
       "      <th>funny_male</th>\n",
       "      <th>field_male</th>\n",
       "    </tr>\n",
       "  </thead>\n",
       "  <tbody>\n",
       "    <tr>\n",
       "      <th>455</th>\n",
       "      <td>23.0</td>\n",
       "      <td>23.0</td>\n",
       "      <td>black/african american</td>\n",
       "      <td>black/african american</td>\n",
       "      <td>law</td>\n",
       "      <td>1</td>\n",
       "      <td>1</td>\n",
       "      <td>8.0</td>\n",
       "      <td>10.0</td>\n",
       "      <td>law</td>\n",
       "    </tr>\n",
       "  </tbody>\n",
       "</table>\n",
       "</div>"
      ],
      "text/plain": [
       "     age_female  age_male             race_female               race_male  \\\n",
       "455        23.0      23.0  black/african american  black/african american   \n",
       "\n",
       "    field_female  decision_female  decision_male  funny_female  funny_male  \\\n",
       "455          law                1              1           8.0        10.0   \n",
       "\n",
       "    field_male  \n",
       "455        law  "
      ]
     },
     "execution_count": 46,
     "metadata": {},
     "output_type": "execute_result"
    }
   ],
   "source": [
    "# How many same age same field same race dates decided to match?\n",
    "\n",
    "df[\n",
    "    (df['field_female']==df['field_male']) &\n",
    "    (df['race_female']==df['race_male']) &\n",
    "    (df['age_female']==df['age_male']) &\n",
    "    (df['age_female']==df['age_male']) &\n",
    "    (df['decision_female']== 1 )& \n",
    "    (df['decision_male']==1)\n",
    "]"
   ]
  },
  {
   "cell_type": "code",
   "execution_count": 51,
   "id": "6e7aaa76",
   "metadata": {},
   "outputs": [
    {
     "data": {
      "text/html": [
       "<div>\n",
       "<style scoped>\n",
       "    .dataframe tbody tr th:only-of-type {\n",
       "        vertical-align: middle;\n",
       "    }\n",
       "\n",
       "    .dataframe tbody tr th {\n",
       "        vertical-align: top;\n",
       "    }\n",
       "\n",
       "    .dataframe thead th {\n",
       "        text-align: right;\n",
       "    }\n",
       "</style>\n",
       "<table border=\"1\" class=\"dataframe\">\n",
       "  <thead>\n",
       "    <tr style=\"text-align: right;\">\n",
       "      <th></th>\n",
       "      <th>age_female</th>\n",
       "      <th>age_male</th>\n",
       "      <th>race_female</th>\n",
       "      <th>race_male</th>\n",
       "      <th>field_female</th>\n",
       "      <th>decision_female</th>\n",
       "      <th>decision_male</th>\n",
       "      <th>funny_female</th>\n",
       "      <th>funny_male</th>\n",
       "      <th>field_male</th>\n",
       "    </tr>\n",
       "  </thead>\n",
       "  <tbody>\n",
       "    <tr>\n",
       "      <th>455</th>\n",
       "      <td>23.0</td>\n",
       "      <td>23.0</td>\n",
       "      <td>black/african american</td>\n",
       "      <td>black/african american</td>\n",
       "      <td>law</td>\n",
       "      <td>1</td>\n",
       "      <td>1</td>\n",
       "      <td>8.0</td>\n",
       "      <td>10.0</td>\n",
       "      <td>law</td>\n",
       "    </tr>\n",
       "  </tbody>\n",
       "</table>\n",
       "</div>"
      ],
      "text/plain": [
       "     age_female  age_male             race_female               race_male  \\\n",
       "455        23.0      23.0  black/african american  black/african american   \n",
       "\n",
       "    field_female  decision_female  decision_male  funny_female  funny_male  \\\n",
       "455          law                1              1           8.0        10.0   \n",
       "\n",
       "    field_male  \n",
       "455        law  "
      ]
     },
     "execution_count": 51,
     "metadata": {},
     "output_type": "execute_result"
    }
   ],
   "source": [
    "#Alternative\n",
    "# How many same age same field same race dates decided to match?\n",
    "decided_to_date = df[(df['decision_female']==df['decision_male']) &\n",
    "                     (df['decision_male'] ==1)].copy()\n",
    "\n",
    "\n",
    "decided_to_date[(decided_to_date['race_female']==decided_to_date['race_male'])&\n",
    "                (decided_to_date['age_female']==decided_to_date['age_male'])&\n",
    "                (decided_to_date['field_female']==decided_to_date['field_male'])\n",
    "               ]"
   ]
  },
  {
   "cell_type": "code",
   "execution_count": 56,
   "id": "c9f74977",
   "metadata": {},
   "outputs": [
    {
     "data": {
      "text/plain": [
       "32.0"
      ]
     },
     "execution_count": 56,
     "metadata": {},
     "output_type": "execute_result"
    }
   ],
   "source": [
    "# what is the biggest age difference in years\n",
    "(np.abs(df['age_female']-df['age_male'])).max()"
   ]
  },
  {
   "cell_type": "code",
   "execution_count": 61,
   "id": "a7bfde16",
   "metadata": {},
   "outputs": [
    {
     "name": "stdout",
     "output_type": "stream",
     "text": [
      "[ 8.  9.  7. 10.  6.  5.  3.  4.]\n",
      "[ 8.   7.  10.   6.   5.   9.   4.   1.   3.   2.   5.5  6.5  9.5  0.\n",
      "  7.5  8.5 11. ]\n"
     ]
    },
    {
     "data": {
      "text/plain": [
       "472"
      ]
     },
     "execution_count": 61,
     "metadata": {},
     "output_type": "execute_result"
    }
   ],
   "source": [
    "primes = 1,3,5,7,11\n",
    "\n",
    "print(df['funny_female'].unique())\n",
    "print(df['funny_male'].unique())\n",
    "\n",
    "len(df[(df['funny_female'].isin(primes))&(df['funny_male'].isin(primes))])"
   ]
  },
  {
   "cell_type": "code",
   "execution_count": 67,
   "id": "2b4c3ff0",
   "metadata": {},
   "outputs": [
    {
     "data": {
      "text/plain": [
       "5"
      ]
     },
     "execution_count": 67,
     "metadata": {},
     "output_type": "execute_result"
    }
   ],
   "source": [
    "# How many dates occurred where the ratio \n",
    "# between the participants is greater than times 2\n",
    "\n",
    "len(\n",
    "    df[~(df['age_female']/df['age_male']).between(0.5,2)]\n",
    ")\n",
    "\n"
   ]
  },
  {
   "cell_type": "code",
   "execution_count": 74,
   "id": "feda9fe0",
   "metadata": {},
   "outputs": [
    {
     "data": {
      "text/html": [
       "<div>\n",
       "<style scoped>\n",
       "    .dataframe tbody tr th:only-of-type {\n",
       "        vertical-align: middle;\n",
       "    }\n",
       "\n",
       "    .dataframe tbody tr th {\n",
       "        vertical-align: top;\n",
       "    }\n",
       "\n",
       "    .dataframe thead th {\n",
       "        text-align: right;\n",
       "    }\n",
       "</style>\n",
       "<table border=\"1\" class=\"dataframe\">\n",
       "  <thead>\n",
       "    <tr style=\"text-align: right;\">\n",
       "      <th></th>\n",
       "      <th></th>\n",
       "      <th>age_female</th>\n",
       "    </tr>\n",
       "    <tr>\n",
       "      <th>field_female</th>\n",
       "      <th>field_male</th>\n",
       "      <th></th>\n",
       "    </tr>\n",
       "  </thead>\n",
       "  <tbody>\n",
       "    <tr>\n",
       "      <th rowspan=\"2\" valign=\"top\">law</th>\n",
       "      <th>business</th>\n",
       "      <td>53</td>\n",
       "    </tr>\n",
       "    <tr>\n",
       "      <th>law</th>\n",
       "      <td>50</td>\n",
       "    </tr>\n",
       "    <tr>\n",
       "      <th>business</th>\n",
       "      <th>law</th>\n",
       "      <td>42</td>\n",
       "    </tr>\n",
       "    <tr>\n",
       "      <th>mba</th>\n",
       "      <th>law</th>\n",
       "      <td>38</td>\n",
       "    </tr>\n",
       "    <tr>\n",
       "      <th>business</th>\n",
       "      <th>business</th>\n",
       "      <td>37</td>\n",
       "    </tr>\n",
       "    <tr>\n",
       "      <th>...</th>\n",
       "      <th>...</th>\n",
       "      <td>...</td>\n",
       "    </tr>\n",
       "    <tr>\n",
       "      <th rowspan=\"4\" valign=\"top\">film</th>\n",
       "      <th>neuroscience and education</th>\n",
       "      <td>1</td>\n",
       "    </tr>\n",
       "    <tr>\n",
       "      <th>nutrition/genetics</th>\n",
       "      <td>1</td>\n",
       "    </tr>\n",
       "    <tr>\n",
       "      <th>nutritiron</th>\n",
       "      <td>1</td>\n",
       "    </tr>\n",
       "    <tr>\n",
       "      <th>physics</th>\n",
       "      <td>1</td>\n",
       "    </tr>\n",
       "    <tr>\n",
       "      <th>writing: literary nonfiction</th>\n",
       "      <th>social work</th>\n",
       "      <td>1</td>\n",
       "    </tr>\n",
       "  </tbody>\n",
       "</table>\n",
       "<p>4738 rows × 1 columns</p>\n",
       "</div>"
      ],
      "text/plain": [
       "                                                         age_female\n",
       "field_female                 field_male                            \n",
       "law                          business                            53\n",
       "                             law                                 50\n",
       "business                     law                                 42\n",
       "mba                          law                                 38\n",
       "business                     business                            37\n",
       "...                                                             ...\n",
       "film                         neuroscience and education           1\n",
       "                             nutrition/genetics                   1\n",
       "                             nutritiron                           1\n",
       "                             physics                              1\n",
       "writing: literary nonfiction social work                          1\n",
       "\n",
       "[4738 rows x 1 columns]"
      ]
     },
     "execution_count": 74,
     "metadata": {},
     "output_type": "execute_result"
    }
   ],
   "source": [
    "# What's the most frequent combination of professions?\n",
    "# How many times does this combination of profession occur? \n",
    "\n",
    "\n",
    "\n",
    "df[['field_female',\n",
    "    'field_male',\n",
    "    'age_female']].groupby(['field_female',\n",
    "                            'field_male']).count().sort_values('age_female', ascending=False)\n",
    "\n",
    "\n",
    "# (law-business + business-law =>53+42 = 95)"
   ]
  },
  {
   "cell_type": "code",
   "execution_count": 80,
   "id": "60ac8976",
   "metadata": {},
   "outputs": [
    {
     "data": {
      "text/plain": [
       "m    2563\n",
       "b    2476\n",
       "e    1743\n",
       "s    1554\n",
       "l    1221\n",
       "i    1103\n",
       "p    1020\n",
       "c     994\n",
       "f     643\n",
       "a     463\n",
       "n     336\n",
       "g     297\n",
       "h     260\n",
       "o     216\n",
       "t     189\n",
       "u     136\n",
       "j     109\n",
       "r      84\n",
       "w      55\n",
       "q      36\n",
       "dtype: int64"
      ]
     },
     "execution_count": 80,
     "metadata": {},
     "output_type": "execute_result"
    }
   ],
   "source": [
    "# What's the most frequent first letter in participants' professions?\n",
    "\n",
    "pd.concat([df['field_female'],df['field_male']]).apply(lambda x: x[0]).value_counts()\n"
   ]
  },
  {
   "cell_type": "code",
   "execution_count": 81,
   "id": "3cb2760a",
   "metadata": {},
   "outputs": [
    {
     "data": {
      "text/plain": [
       "'C:\\\\Users\\\\Tal Mizrachi\\\\Desktop\\\\ap img\\\\competition'"
      ]
     },
     "execution_count": 81,
     "metadata": {},
     "output_type": "execute_result"
    }
   ],
   "source": []
  },
  {
   "cell_type": "code",
   "execution_count": null,
   "id": "eadf39d7",
   "metadata": {},
   "outputs": [],
   "source": []
  }
 ],
 "metadata": {
  "kernelspec": {
   "display_name": "Python 3 (ipykernel)",
   "language": "python",
   "name": "python3"
  },
  "language_info": {
   "codemirror_mode": {
    "name": "ipython",
    "version": 3
   },
   "file_extension": ".py",
   "mimetype": "text/x-python",
   "name": "python",
   "nbconvert_exporter": "python",
   "pygments_lexer": "ipython3",
   "version": "3.7.10"
  }
 },
 "nbformat": 4,
 "nbformat_minor": 5
}
